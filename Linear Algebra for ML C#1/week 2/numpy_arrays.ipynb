{
 "cells": [
  {
   "cell_type": "markdown",
   "id": "d9a939e3-bd08-4aea-86f5-a7871d9725f7",
   "metadata": {},
   "source": [
    "<a name='0'></a>\n",
    "## About Jupyter Notebooks ##\n",
    "\n",
    "\n",
    "Jupyter Notebooks are interactive coding journals that integrate live code, explanatory text, equations, visualizations and other multimedia resources, all in a single document. As a first exercise, run the test snippet below and the print statement cell for \"Hello World\"."
   ]
  },
  {
   "cell_type": "code",
   "execution_count": 6,
   "id": "0dff511b-e581-4be5-a969-bc65ed3b853b",
   "metadata": {},
   "outputs": [
    {
     "name": "stdout",
     "output_type": "stream",
     "text": [
      "Hello World\n"
     ]
    }
   ],
   "source": [
    "# Run the \"Hello World\" in the cell below to print \"Hello World\". \n",
    "test = \"Hello World\"\n",
    "print(test)"
   ]
  },
  {
   "cell_type": "markdown",
   "id": "28abd52d-55f0-4f84-b877-708a62121a2c",
   "metadata": {},
   "source": [
    "<a name='1'></a>\r\n",
    "# 1 - Basics of NumPy #\r\n",
    "\r\n",
    "NumPy is the main package for scientific computing in Python. It performs a wide variety of advanced mathematical operations with high efficiency. In this practice lab you will learn several key NumPy functions that will help you in future assignments, such as creating arrays, slicing, indexing, reshaping and stacking."
   ]
  },
  {
   "cell_type": "markdown",
   "id": "00c53089-d9b6-4d2f-8246-939f52321d18",
   "metadata": {},
   "source": [
    "<a name='1-1'></a>\r\n",
    "## 1.1 - Packages #\n",
    "Before you get started, you have to import NumPy to load its functions. As you may notice, even though there is no expected output, when you run this cell, the Jupyter Notebook imports the package (often referred to as the library) and its functions. Try it for yourself and run the following cell.#"
   ]
  },
  {
   "cell_type": "code",
   "execution_count": 7,
   "id": "e925ce1f-1a50-4674-9ce4-59399dab1564",
   "metadata": {},
   "outputs": [],
   "source": [
    "import numpy as np"
   ]
  },
  {
   "cell_type": "markdown",
   "id": "1f32ea93-0f18-4764-82cc-6f46e50ca506",
   "metadata": {},
   "source": [
    "<a name='1-2'></a>\r\n",
    "## 1.2 - Advantages of using NumPy arrays #\n",
    "\n",
    "Arrays are one of the core data structures of the NumPy library, essential for organizing your data. You can think of them as a grid of values, all of the same type. If you have used Python lists before, you may remember that they are convenient, as you can store different data types. However, Python lists are limited in functions and take up more space and time to process than NumPy arrays.\r\n",
    "\r\n",
    "NumPy provides an array object that is much faster and more compact than Python lists. Through its extensive API integration, the library offers many built-in functions that make computing much easier with only a few lines of code. This can be a huge advantage when performing math operations on large datasets. \r\n",
    "\r\n",
    "The array object in NumPy is called `ndarray` meaning 'n-dimensional array'. To begin with, you will use one of the most common array types: the one-dimensional array ('1-D'). A 1-D array represents a standard list of values entirely in one dimension. Remember that in NumPy, all of the elements within the array are of the same type.#"
   ]
  },
  {
   "cell_type": "code",
   "execution_count": 8,
   "id": "7af8945b-7dfa-4d3f-b7df-c17f3d3b7e68",
   "metadata": {},
   "outputs": [
    {
     "name": "stdout",
     "output_type": "stream",
     "text": [
      "[10 12]\n"
     ]
    }
   ],
   "source": [
    "one_dimensional_arr = np.array([10, 12]) \n",
    "print(one_dimensional_arr)"
   ]
  },
  {
   "cell_type": "markdown",
   "id": "be093d53-c7e0-4501-b2e9-03e4c3f6f911",
   "metadata": {},
   "source": [
    "<a name='1-3'></a>\r\n",
    "## 1.3 - How to create NumPy arrays #\n",
    "\n",
    "There are several ways to create an array in NumPy. You can create a 1-D array by simply using the function array() which takes in a list of values as an argument and returns a 1-D array.#"
   ]
  },
  {
   "cell_type": "code",
   "execution_count": 9,
   "id": "ce703a91-7729-4be9-8975-411c8c64fb34",
   "metadata": {},
   "outputs": [
    {
     "name": "stdout",
     "output_type": "stream",
     "text": [
      "[1 2 3]\n"
     ]
    }
   ],
   "source": [
    "# Create and print a NumPy array 'a' containing the elements 1, 2, 3.\n",
    "a = np.array([1, 2, 3])\n",
    "print(a)"
   ]
  },
  {
   "cell_type": "markdown",
   "id": "e554c06c-3a69-49ee-bc21-a2737b92594b",
   "metadata": {},
   "source": [
    "Another way to implement an array is using `np.arange()`. This function will return an array of evenly spaced values within a given interval. To learn more about the arguments that this function takes, there is a powerful feature in Jupyter Notebook that allows you to access the documentation of any function by simply pressing `shift+tab` on your keyboard when clicking on the function. Give it a try for the built-in documentation of `np.arange()`. "
   ]
  },
  {
   "cell_type": "code",
   "execution_count": 10,
   "id": "db3012f0-b824-4e9c-9518-b4c46be94ec1",
   "metadata": {},
   "outputs": [
    {
     "name": "stdout",
     "output_type": "stream",
     "text": [
      "[0 1 2]\n"
     ]
    }
   ],
   "source": [
    "# Create an array with 3 integers, starting from the default integer 0.\n",
    "b = np.arange(3)\n",
    "print(b)"
   ]
  },
  {
   "cell_type": "code",
   "execution_count": 11,
   "id": "9517c216-e0a9-4fc3-ba15-e634a28bcb32",
   "metadata": {},
   "outputs": [
    {
     "name": "stdout",
     "output_type": "stream",
     "text": [
      "[ 1  4  7 10 13 16 19]\n"
     ]
    }
   ],
   "source": [
    "# Create an array that starts from the integer 1, ends at 20, incremented by 3.\n",
    "c = np.arange(1, 20, 3)\n",
    "print(c)"
   ]
  },
  {
   "cell_type": "markdown",
   "id": "081ce4fa-5034-4fd2-a8ef-57fe2339376f",
   "metadata": {},
   "source": [
    "What if you wanted to create an array with five evenly spaced values in the interval from 0 to 100? As you may notice, you have 3 parameters that a function must take. One paremeter is the starting number, in  this case 0, the final number 100 and the number of elements in the array, in this case, 5. NumPy has a function that allows you to do specifically this by using `np.linspace()`."
   ]
  },
  {
   "cell_type": "code",
   "execution_count": 12,
   "id": "cd2340af-e958-4278-ba41-06df8ceafff1",
   "metadata": {},
   "outputs": [
    {
     "name": "stdout",
     "output_type": "stream",
     "text": [
      "[  0.  25.  50.  75. 100.]\n"
     ]
    }
   ],
   "source": [
    "lin_spaced_arr = np.linspace(0, 100, 5)\n",
    "print(lin_spaced_arr)"
   ]
  },
  {
   "cell_type": "markdown",
   "id": "30c7f812-04ab-4e96-9a43-56714b14f642",
   "metadata": {},
   "source": [
    "Did you notice that the output of the function is presented in the float value form (e.g. \"... 25. 50. ...\")? The reason is that the default type for values in the NumPy function `np.linspace` is a floating point (`np.float64`). You can easily specify your data type using `dtype`. If you access the built-in documentation of the functions, you may notice that most functions take in an optional parameter `dtype`. In addition to float, NumPy has several other data types such as `int`, and `char`. \r\n",
    "\r\n",
    "To change the type to integers, you need to set the dtype to `int`. You can do so, even in the previous functions. Feel free to try it out and modify the cells to output your desired data type. "
   ]
  },
  {
   "cell_type": "code",
   "execution_count": 13,
   "id": "134a5476-0cd6-4b1d-957e-2866f67d3152",
   "metadata": {},
   "outputs": [
    {
     "name": "stdout",
     "output_type": "stream",
     "text": [
      "[  0  25  50  75 100]\n"
     ]
    }
   ],
   "source": [
    "lin_spaced_arr_int = np.linspace(0, 100, 5, dtype=int)\n",
    "print(lin_spaced_arr_int)"
   ]
  },
  {
   "cell_type": "code",
   "execution_count": 14,
   "id": "4005f194-46db-4be0-9099-033c3cfbeee7",
   "metadata": {},
   "outputs": [
    {
     "name": "stdout",
     "output_type": "stream",
     "text": [
      "[ 1  4  7 10 13 16 19]\n"
     ]
    }
   ],
   "source": [
    "c_int = np.arange(1, 20, 3, dtype=int)\n",
    "print(c_int)"
   ]
  },
  {
   "cell_type": "code",
   "execution_count": 15,
   "id": "8512b248-d775-47ee-9776-a3de95312cb7",
   "metadata": {},
   "outputs": [
    {
     "name": "stdout",
     "output_type": "stream",
     "text": [
      "[0. 1. 2.]\n"
     ]
    }
   ],
   "source": [
    "b_float = np.arange(3, dtype=float)\n",
    "print(b_float)"
   ]
  },
  {
   "cell_type": "code",
   "execution_count": 16,
   "id": "26eb70fb-d166-4914-9c2e-6ee55ef4e911",
   "metadata": {},
   "outputs": [
    {
     "name": "stdout",
     "output_type": "stream",
     "text": [
      "['Welcome to Math for ML!']\n",
      "<U23\n"
     ]
    }
   ],
   "source": [
    "char_arr = np.array(['Welcome to Math for ML!'])\n",
    "print(char_arr)\n",
    "print(char_arr.dtype) # Prints the data type of the array"
   ]
  },
  {
   "cell_type": "markdown",
   "id": "1d7bbeaa-dd76-495c-baaf-f7e47abbeb88",
   "metadata": {},
   "source": [
    "Did you notice that the output of the data type of the `char_arr` array is `<U23`? \r\n",
    "This means that the string (`'Welcome to Math for ML!'`) is a 23-character (23) unicode string (`U`) on a little-endian architecture (`<`). You can learn more about data types [here](https://numpy.org/doc/stable/user/basics.types.html)."
   ]
  },
  {
   "cell_type": "markdown",
   "id": "9d6d84cf-3aaa-4b13-92af-3af20580577e",
   "metadata": {},
   "source": [
    "<a name='1-4'></a>\n",
    "## 1.4 - More on NumPy arrays ##\n",
    "\n",
    "One of the advantages of using NumPy is that you can easily create arrays with built-in functions such as: \n",
    "- `np.ones()` - Returns a new array setting values to one.\n",
    "- `np.zeros()` - Returns a new array setting values to zero.\n",
    "- `np.empty()` - Returns a new uninitialized array. \n",
    "- `np.random.rand()` - Returns a new array with values chosen at random."
   ]
  },
  {
   "cell_type": "code",
   "execution_count": 18,
   "id": "bd0b0841-004e-4fba-bb63-eb89ec3e50e5",
   "metadata": {},
   "outputs": [
    {
     "name": "stdout",
     "output_type": "stream",
     "text": [
      "[1. 1. 1.]\n"
     ]
    }
   ],
   "source": [
    "# Return a new array of shape 3, filled with ones. \n",
    "ones_arr = np.ones(3)\n",
    "print(ones_arr)"
   ]
  },
  {
   "cell_type": "code",
   "execution_count": 19,
   "id": "fff406de-a7aa-418b-be63-58846ac94e7c",
   "metadata": {},
   "outputs": [
    {
     "name": "stdout",
     "output_type": "stream",
     "text": [
      "[0. 0. 0.]\n"
     ]
    }
   ],
   "source": [
    "# Return a new array of shape 3, filled with zeroes.\n",
    "zeros_arr = np.zeros(3)\n",
    "print(zeros_arr)"
   ]
  },
  {
   "cell_type": "code",
   "execution_count": 20,
   "id": "31f7a475-ca74-4043-ad8b-2fc628a19cca",
   "metadata": {},
   "outputs": [
    {
     "name": "stdout",
     "output_type": "stream",
     "text": [
      "[0. 0. 0.]\n"
     ]
    }
   ],
   "source": [
    "# Return a new array of shape 3, without initializing entries.\n",
    "empt_arr = np.empty(3)\n",
    "print(empt_arr)"
   ]
  },
  {
   "cell_type": "code",
   "execution_count": 21,
   "id": "bdf39a7c-c42a-4ac6-8bee-d0a5f94e5ecb",
   "metadata": {},
   "outputs": [
    {
     "name": "stdout",
     "output_type": "stream",
     "text": [
      "[0.54005207 0.98825237 0.58761756 0.3575352  0.25867908]\n"
     ]
    }
   ],
   "source": [
    "# Return a new array of shape 5 with random numbers between 0 and 1.\n",
    "rand_arr = np.random.rand(5)\n",
    "print(rand_arr)"
   ]
  },
  {
   "cell_type": "markdown",
   "id": "7f6fa80c-a9fb-4005-9b45-6b0e2da8b97e",
   "metadata": {},
   "source": [
    "<a name='2'></a>\r\n",
    "# 2 - Multidimensional Arrays #\r\n",
    "With NumPy you can also create arrays with more than one dimension. In the above examples, you dealt with 1-D arrays, where you can access their elements using a single index. A multidimensional array has more than one column. Think of a multidimensional array as an excel sheet where each row/column represents a dimension."
   ]
  },
  {
   "cell_type": "markdown",
   "id": "a933b2b6-66c8-428a-923f-75338bc8c165",
   "metadata": {},
   "source": [
    "![0_Vh-pKXTJsdL-9FT0.png](attachment:0_Vh-pKXTJsdL-9FT0.png)"
   ]
  },
  {
   "cell_type": "code",
   "execution_count": 22,
   "id": "dbd3761c-d0e3-4833-b207-65f7df8df77d",
   "metadata": {},
   "outputs": [
    {
     "name": "stdout",
     "output_type": "stream",
     "text": [
      "[[1 2 3]\n",
      " [4 5 6]]\n"
     ]
    }
   ],
   "source": [
    "# Create a 2 dimensional array (2-D)\n",
    "two_dim_arr = np.array([[1,2,3], [4,5,6]])\n",
    "print(two_dim_arr)"
   ]
  },
  {
   "cell_type": "markdown",
   "id": "540b1c6b-42f0-4660-9067-588a185d78f5",
   "metadata": {},
   "source": [
    "An alternative way to create a multidimensional array is by reshaping the initial 1-D array. Using `np.reshape()` you can rearrange elements of the previous array into a new shape. "
   ]
  },
  {
   "cell_type": "code",
   "execution_count": 23,
   "id": "503bff0f-6eb3-48d2-971c-d9cd24096452",
   "metadata": {},
   "outputs": [
    {
     "name": "stdout",
     "output_type": "stream",
     "text": [
      "[[1]\n",
      " [2]\n",
      " [3]\n",
      " [4]\n",
      " [5]\n",
      " [6]]\n"
     ]
    }
   ],
   "source": [
    "# 1-D array \n",
    "one_dim = np.array([1, 2, 3, 4, 5, 6])\n",
    "\n",
    "# Multidimensional array using reshape()\n",
    "multi_dim = np.reshape( one_dim, (6,1) )\n",
    "# the array to be reshaped    # dimensions of the new array 6 rows one columns\n",
    "              \n",
    "# Print the new  array with two rows and three columns\n",
    "print(multi_dim)"
   ]
  },
  {
   "cell_type": "markdown",
   "id": "b41420d3-5d13-47dd-be09-edcb0ff69771",
   "metadata": {},
   "source": [
    "<a name='2-1'></a>\n",
    "## 2.1 - Finding size, shape and dimension. ##\n",
    "\n",
    "In future assignments, you will need to know how to find the size, dimension and shape of an array. These are all atrributes of a ndarray and can be accessed as follows:\r\n",
    "\r\n",
    "ndarray.ndim - Stores the number dimensions of the array.\r\n",
    "ndarray.shape - Stores the shape of the array. Each number in the tuple denotes the lengths of each corresponding dimension.\r\n",
    "ndarray.size - Stores the number of elements in the array."
   ]
  },
  {
   "cell_type": "code",
   "execution_count": 24,
   "id": "4bf9e3cc-4f4c-441d-93e5-15abd8a3918e",
   "metadata": {},
   "outputs": [
    {
     "data": {
      "text/plain": [
       "2"
      ]
     },
     "execution_count": 24,
     "metadata": {},
     "output_type": "execute_result"
    }
   ],
   "source": [
    "# Dimension of the 2-D array multi_dim_arr\n",
    "multi_dim.ndim"
   ]
  },
  {
   "cell_type": "code",
   "execution_count": 25,
   "id": "65097a21-bd35-4e99-b44c-406eef377d97",
   "metadata": {},
   "outputs": [
    {
     "data": {
      "text/plain": [
       "(6, 1)"
      ]
     },
     "execution_count": 25,
     "metadata": {},
     "output_type": "execute_result"
    }
   ],
   "source": [
    "# Shape of the 2-D array multi_dim_arr\n",
    "# Returns shape of 2 rows and 3 columns\n",
    "multi_dim.shape"
   ]
  },
  {
   "cell_type": "code",
   "execution_count": 26,
   "id": "68743957-a0db-4bf4-8c64-35de65e645d7",
   "metadata": {},
   "outputs": [
    {
     "data": {
      "text/plain": [
       "6"
      ]
     },
     "execution_count": 26,
     "metadata": {},
     "output_type": "execute_result"
    }
   ],
   "source": [
    "# Size of the array multi_dim_arr\n",
    "# Returns total number of elements\n",
    "multi_dim.size"
   ]
  },
  {
   "cell_type": "markdown",
   "id": "877bb86c-71fe-4bf9-afba-f1b8cb932a20",
   "metadata": {},
   "source": [
    "<a name='3'></a>\n",
    "# 3 - Array math operations #\n",
    "In this section, you will see that NumPy allows you to quickly perform elementwise addition, substraction, multiplication and division for both 1-D and multidimensional arrays. The operations are performed using the math symbol for each '+', '-' and '*'. Recall that addition of Python lists works completely differently as it would append the lists, thus making a longer list, in addition, subtraction and multiplication of Python lists do not work. "
   ]
  },
  {
   "cell_type": "code",
   "execution_count": 27,
   "id": "25cddc35-2846-4c05-a610-de02c79e6f38",
   "metadata": {},
   "outputs": [
    {
     "name": "stdout",
     "output_type": "stream",
     "text": [
      "[ 3  7 11]\n",
      "[1 1 1]\n",
      "[ 2 12 30]\n"
     ]
    }
   ],
   "source": [
    "arr_1 = np.array([2, 4, 6])\n",
    "arr_2 = np.array([1, 3, 5])\n",
    "\n",
    "# Adding two 1-D arrays\n",
    "addition = arr_1 + arr_2\n",
    "print(addition)\n",
    "\n",
    "# Subtracting two 1-D arrays\n",
    "subtraction = arr_1 - arr_2\n",
    "print(subtraction)\n",
    "\n",
    "# Multiplying two 1-D arrays elementwise\n",
    "multiplication = arr_1 * arr_2\n",
    "print(multiplication)"
   ]
  },
  {
   "cell_type": "markdown",
   "id": "f978b13a-436f-4d03-9af8-f02696d5beee",
   "metadata": {},
   "source": [
    "<a name='3-1'></a>\r\n",
    "## 3.1 - Multiplying vector with a scalar (broadcasting) ##\r\n",
    "Suppose you need to convert miles to kilometers. To do so, you can use the NumPy array functions that you've learned so far. You can do this by carrying out an operation between an array (miles) and a single number (the conversion rate which is a scalar). Since, 1 mile = 1.6 km, NumPy computes each multiplication within each cell. \r\n",
    "\r\n",
    "This concept is called **broadcasting**, which allows you to perform operations specifically on arrays of different shapes. "
   ]
  },
  {
   "cell_type": "code",
   "execution_count": 28,
   "id": "8a32eca9-8060-452f-bba4-3db90de6f92f",
   "metadata": {},
   "outputs": [
    {
     "data": {
      "text/plain": [
       "array([1.6, 3.2])"
      ]
     },
     "execution_count": 28,
     "metadata": {},
     "output_type": "execute_result"
    }
   ],
   "source": [
    "vector = np.array([1, 2])\n",
    "vector * 1.6"
   ]
  },
  {
   "cell_type": "markdown",
   "id": "ba421393-5681-471a-ace3-4271d76bdd5a",
   "metadata": {},
   "source": [
    "![Unknown-2.png](attachment:Unknown-2.png)"
   ]
  },
  {
   "cell_type": "markdown",
   "id": "9cb96ad4-5a72-4b6c-a8f9-ff3c949cc845",
   "metadata": {},
   "source": [
    "<a name='4'></a>\r\n",
    "# 4 - Indexing and slicing #\r\n",
    "Indexing is very useful as it allows you to select specific elements from an array. It also lets you select entire rows/columns or planes as you'll see in future assignments for multidimensional arrays. \r\n",
    "\r\n",
    "## 4.1 - Indexing ##\r\n",
    "Let us select specific elements from the arrays as given. "
   ]
  },
  {
   "cell_type": "code",
   "execution_count": 29,
   "id": "544beeb8-3c97-4733-bd49-94a095e63101",
   "metadata": {},
   "outputs": [
    {
     "name": "stdout",
     "output_type": "stream",
     "text": [
      "3\n",
      "1\n"
     ]
    }
   ],
   "source": [
    "# Select the third element of the array. Remember the counting starts from 0.\n",
    "a = ([1, 2, 3, 4, 5])\n",
    "print(a[2])\n",
    "\n",
    "# Select the first element of the array.\n",
    "print(a[0])"
   ]
  },
  {
   "cell_type": "markdown",
   "id": "d79476eb-ab2a-4a78-8453-61a5335d0777",
   "metadata": {},
   "source": [
    "For multidimensional arrays of shape `n`, to index a specific element, you must input `n` indices, one for each dimension."
   ]
  },
  {
   "cell_type": "code",
   "execution_count": 34,
   "id": "fb6b4a35-f5a8-41b9-8532-a47cb75bd5ce",
   "metadata": {},
   "outputs": [
    {
     "name": "stdout",
     "output_type": "stream",
     "text": [
      "7\n"
     ]
    }
   ],
   "source": [
    "# Indexing on a 2-D array\n",
    "two_dim = np.array(([1, 2, 3],\n",
    "                    [4, 5, 6], \n",
    "                    [7, 8, 9]))\n",
    "\n",
    "# Select element number 8 from the 2-D array using indices i, j.\n",
    "print(two_dim[2][0])"
   ]
  },
  {
   "cell_type": "markdown",
   "id": "6c4dc8fd-f8e5-46b1-9c16-81add158fbec",
   "metadata": {},
   "source": [
    "<a name='4-2'></a>\r\n",
    "## 4.2 - Slicing ##\r\n",
    "Slicing gives you a sublist of elements that you specify from the array. The slice notation specifies a start and end value, and copies the list from start up to but not including the end (end-exclusive). \r\n",
    "\r\n",
    "The syntax is:\r\n",
    "\r\n",
    "`array[start:end:step]`\r\n",
    "\r\n",
    "If no value is passed to start, it is assumed `start = 0`, if no value is passed to end, it is assumed that `end = length of array - 1` and if no value is passed to step, it is assumed `step = 1`."
   ]
  },
  {
   "cell_type": "code",
   "execution_count": 35,
   "id": "870cb0de-2b83-4d92-9dc1-14e2a573de77",
   "metadata": {},
   "outputs": [
    {
     "name": "stdout",
     "output_type": "stream",
     "text": [
      "[2, 7, 8]\n"
     ]
    }
   ],
   "source": [
    "# Slice the array a to get the array [2,3,4]\n",
    "a = ([1, 2, 7, 8, 11])\n",
    "sliced_arr = a[1:4]\n",
    "print(sliced_arr)"
   ]
  },
  {
   "cell_type": "code",
   "execution_count": 37,
   "id": "525d36d4-dc29-4c73-85b6-2e7d41c90911",
   "metadata": {},
   "outputs": [
    {
     "name": "stdout",
     "output_type": "stream",
     "text": [
      "[1, 2, 7]\n"
     ]
    }
   ],
   "source": [
    "# Slice the array a to get the array [1,2,3]\n",
    "sliced_arr = a[:3]\n",
    "print(sliced_arr)"
   ]
  },
  {
   "cell_type": "code",
   "execution_count": 38,
   "id": "defe504d-d8be-48db-bccf-0f8d5b845427",
   "metadata": {},
   "outputs": [
    {
     "name": "stdout",
     "output_type": "stream",
     "text": [
      "[7, 8, 11]\n",
      "[1, 11]\n"
     ]
    }
   ],
   "source": [
    "# Slice the array a to get the array [3,4,5]\n",
    "sliced_arr = a[2:]\n",
    "print(sliced_arr)\n",
    "\n",
    "# Slice the array a to get the array [1,3,5]\n",
    "sliced_arr = a[::4]          # start to end of a with difference of 2\n",
    "print(sliced_arr)"
   ]
  },
  {
   "cell_type": "markdown",
   "id": "397d4af9-2e48-417d-a272-79928992b410",
   "metadata": {},
   "source": [
    "### Note that a == a[:] == a[::]\n",
    "print(a == a[:] == a[::])"
   ]
  },
  {
   "cell_type": "code",
   "execution_count": 39,
   "id": "29bb1e85-b468-46b3-8d5b-9885c7b19589",
   "metadata": {},
   "outputs": [
    {
     "name": "stdout",
     "output_type": "stream",
     "text": [
      "[[4 5 6]\n",
      " [7 8 9]]\n",
      "[2 5 8]\n"
     ]
    }
   ],
   "source": [
    "# Slice the two_dim array to get the first two rows\n",
    "sliced_arr_1 = two_dim[0:2]\n",
    "sliced_arr_1\n",
    "\n",
    "# Similarily, slice the two_dim array to get the last two rows\n",
    "sliced_two_dim_rows = two_dim[1:3]\n",
    "print(sliced_two_dim_rows)\n",
    "\n",
    "sliced_two_dim_cols = two_dim[:,1]\n",
    "print(sliced_two_dim_cols)"
   ]
  },
  {
   "cell_type": "markdown",
   "id": "e59e09ee-6752-4fa6-b0fd-63a992778914",
   "metadata": {},
   "source": [
    "<a name='5'></a>\r\n",
    "# 5 - Stacking #\r\n",
    "Finally, stacking is a feature of NumPy that leads to increased customization of arrays. It means to join two or more arrays, either horizontally or vertically, meaning that it is done along a new axis. \r\n",
    "\r\n",
    "- `np.vstack()` - stacks vertically\r\n",
    "- `np.hstack()` - stacks horizontally\r\n",
    "- `np.hsplit()` - splits an array into several smaller arrays"
   ]
  },
  {
   "cell_type": "code",
   "execution_count": 40,
   "id": "07d027f7-8810-4d41-aece-98cde6633945",
   "metadata": {},
   "outputs": [
    {
     "name": "stdout",
     "output_type": "stream",
     "text": [
      "a1:\n",
      "[[1 1]\n",
      " [2 2]]\n",
      "a2:\n",
      "[[3 3]\n",
      " [4 4]]\n"
     ]
    }
   ],
   "source": [
    "a1 = np.array([[1,1], \n",
    "               [2,2]])\n",
    "a2 = np.array([[3,3],\n",
    "              [4,4]])\n",
    "print(f'a1:\\n{a1}')\n",
    "print(f'a2:\\n{a2}')"
   ]
  },
  {
   "cell_type": "code",
   "execution_count": 41,
   "id": "aa1c8fc0-2b81-4b1f-a409-74d7e26f06ba",
   "metadata": {},
   "outputs": [
    {
     "name": "stdout",
     "output_type": "stream",
     "text": [
      "[[1 1]\n",
      " [2 2]\n",
      " [3 3]\n",
      " [4 4]]\n"
     ]
    }
   ],
   "source": [
    "# Stack the arrays vertically\n",
    "vert_stack = np.vstack((a1, a2))\n",
    "print(vert_stack)\n"
   ]
  },
  {
   "cell_type": "code",
   "execution_count": 42,
   "id": "9492f55d-d970-4dc9-883e-8bb1e9288739",
   "metadata": {},
   "outputs": [
    {
     "name": "stdout",
     "output_type": "stream",
     "text": [
      "[[1 1 3 3]\n",
      " [2 2 4 4]]\n"
     ]
    }
   ],
   "source": [
    "# Stack the arrays horizontally\n",
    "horz_stack = np.hstack((a1, a2))\n",
    "print(horz_stack)"
   ]
  },
  {
   "cell_type": "markdown",
   "id": "eef94586-1c85-4658-b6db-89d218a11fff",
   "metadata": {},
   "source": [
    "<a name='5'></a>\n",
    "# ENDS HERE!"
   ]
  }
 ],
 "metadata": {
  "kernelspec": {
   "display_name": "Python 3 (ipykernel)",
   "language": "python",
   "name": "python3"
  },
  "language_info": {
   "codemirror_mode": {
    "name": "ipython",
    "version": 3
   },
   "file_extension": ".py",
   "mimetype": "text/x-python",
   "name": "python",
   "nbconvert_exporter": "python",
   "pygments_lexer": "ipython3",
   "version": "3.10.6"
  }
 },
 "nbformat": 4,
 "nbformat_minor": 5
}
