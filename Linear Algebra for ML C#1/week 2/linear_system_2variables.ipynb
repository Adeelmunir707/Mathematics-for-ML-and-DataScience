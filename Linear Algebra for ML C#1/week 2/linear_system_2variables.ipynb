{
 "cells": [
  {
   "cell_type": "markdown",
   "id": "13057bdd-5640-4c7c-a31d-8af7d56cd47b",
   "metadata": {},
   "source": [
    "## Packages\r\n",
    "\r\n",
    "Load the `NumPy` package to access its functions."
   ]
  },
  {
   "cell_type": "code",
   "execution_count": 43,
   "id": "f62c6085-f788-4af0-8e89-1d71cb700931",
   "metadata": {},
   "outputs": [],
   "source": [
    "import numpy as np"
   ]
  },
  {
   "cell_type": "markdown",
   "id": "a84ded6e-eecc-44b4-80ec-fe21791cd91f",
   "metadata": {},
   "source": [
    "<a name='1'></a>\r\n",
    "## 1 - Representing and Solving System of Linear Equations using Matrice\n",
    "\n",
    "<a name='1.1'></a>\r\n",
    "### 1.1 - System of Linear Equations\r\n",
    "\r\n",
    "A **system of linear equations** (or **linear system**) is a collection of one or more linear equations involving the same variables. For example:\r\n",
    "\r\n",
    "\r\n",
    "$$\\begin{cases} \r\n",
    "-x_1+3x_2=7, \\\\ 3x_1+2x_2=1, \\end{cases}\\tag{1}$$\r\n",
    "\r\n",
    "is a system of two equations with two unknown variables $x_1$, $x_2$. **To solve** a system of linear equations means to find such values of the variables $x_1$, $x_2$, that all of its equations are simultaneously satisfied.\r\n",
    "\r\n",
    "A linear system is **inconsistent** if it has no solution, and otherwise it is said to be **consistent**. Consistent system can have one or infinite number of\n",
    "\n",
    "<a name='1.2'></a>\r\n",
    "### 1.2 - Solving Systems of Linear Equations using Matrices\r\n",
    "\r\n",
    "Linear systems with two equations are easy to solve manually, but preparing for more complicated cases, you will investigate some solution techniques. \r\n",
    "\r\n",
    "`NumPy` linear algebra package provides quick and reliable way to solve the system of linear equations using function `np.linalg.solve(A, b)`. Here $A$ is a matrix, each row of which represents one equation in the system and each column corresponds to the variable $x_1$, $x_2$. And $b$ is a 1-D array of the free (right side) coefficients. More information about the `np.linalg.solve()` function can be found in [documentation](https://numpy.org/doc/stable/reference/generated/numpy.linalg.solve.html).\r\n",
    "\r\n",
    "Given the system of linear equations $(1)$, you can set matrix $A$ and 1-D array $b$ as: solutions.s"
   ]
  },
  {
   "cell_type": "code",
   "execution_count": 44,
   "id": "6336bdaa-49ff-480d-a327-6371fce71583",
   "metadata": {},
   "outputs": [
    {
     "name": "stdout",
     "output_type": "stream",
     "text": [
      "Matrix A:\n",
      "[[-1.  3.]\n",
      " [ 3.  2.]]\n",
      "\n",
      "Array b:\n",
      "[7. 1.]\n"
     ]
    }
   ],
   "source": [
    "A = np.array([\n",
    "        [-1, 3],\n",
    "        [3, 2]\n",
    "    ], dtype=np.dtype(float))\n",
    "\n",
    "b = np.array([7, 1], dtype=np.dtype(float))\n",
    "\n",
    "print(\"Matrix A:\")\n",
    "print(A)\n",
    "print(\"\\nArray b:\")\n",
    "print(b)"
   ]
  },
  {
   "cell_type": "markdown",
   "id": "736869bd-220f-47f0-8855-ebd51c5d8ea1",
   "metadata": {},
   "source": [
    "Check the dimensions of $A$ and $b$ using the `shape` attribute (you can also use `np.shape()` as an alternative):"
   ]
  },
  {
   "cell_type": "code",
   "execution_count": 45,
   "id": "45faf3eb-60ea-4383-a13f-c95a626d148e",
   "metadata": {},
   "outputs": [
    {
     "name": "stdout",
     "output_type": "stream",
     "text": [
      "Shape of A: (2, 2)\n",
      "Shape of b: (2,)\n"
     ]
    }
   ],
   "source": [
    "print(f\"Shape of A: {A.shape}\")\n",
    "print(f\"Shape of b: {b.shape}\")\n",
    "\n",
    "# print(f\"Shape of A: {np.shape(A)}\")\n",
    "# print(f\"Shape of A: {np.shape(b)}\")"
   ]
  },
  {
   "cell_type": "markdown",
   "id": "030aa1ed-dd2a-456b-9f7b-775de14706e1",
   "metadata": {},
   "source": [
    "Now simply use `np.linalg.solve(A, b)` function to find the solution of the system $(1)$. The result will be saved in the 1-D array $x$. The elements will correspond to the values of $x_1$ and $x_2$:"
   ]
  },
  {
   "cell_type": "code",
   "execution_count": 46,
   "id": "33512d9f-c16f-48e9-a48e-c8a0f76b3229",
   "metadata": {},
   "outputs": [
    {
     "name": "stdout",
     "output_type": "stream",
     "text": [
      "Solution: [-1.  2.]\n"
     ]
    }
   ],
   "source": [
    "x = np.linalg.solve(A, b)\n",
    "\n",
    "print(f\"Solution: {x}\")"
   ]
  },
  {
   "cell_type": "markdown",
   "id": "fcc11985-bfe9-4e2d-854b-ad7e6beb8b63",
   "metadata": {},
   "source": [
    "Try to substitute those values of $x_1$ and $x_2$ into the original system of equations to check its consistency."
   ]
  },
  {
   "cell_type": "markdown",
   "id": "04116faa-cebf-4091-a8b7-ccdb4cf62be8",
   "metadata": {},
   "source": [
    "\n",
    "<a name='1.3'></a>\n",
    "### 1.3 - Evaluating Determinant of a Matrix\n",
    "\n",
    "Matrix $A$ corresponding to the linear system $(1)$ is a **square matrix** - it has the same number of rows and columns. In case of a square matrix it is possible to calculate its determinant - a real number which characterizes some properties of the matrix. Linear system containing two (or more) equations with the same number of unknown variables will have one solution if and only if matrix $A$ has non-zero determinant.\n",
    "\n",
    "Let's calculate the determinant using `NumPy` linear algebra package. You can do it with the `np.linalg.det(A)` function. More information about it can be found in [documentation](https://numpy.org/doc/stable/reference/generated/numpy.linalg.det.html)."
   ]
  },
  {
   "cell_type": "code",
   "execution_count": 47,
   "id": "276c04ed-ad8d-4c6c-94ea-7d24ea976e88",
   "metadata": {},
   "outputs": [
    {
     "name": "stdout",
     "output_type": "stream",
     "text": [
      "Determinant of matrix A: -11.00\n"
     ]
    }
   ],
   "source": [
    "d = np.linalg.det(A)\n",
    "\n",
    "print(f\"Determinant of matrix A: {d:.2f}\")"
   ]
  },
  {
   "cell_type": "markdown",
   "id": "11d73155-6b4b-4cb5-8866-126bf9b294a4",
   "metadata": {},
   "source": [
    "Note that its value is non-zero, as expected for a system with exactly one solution."
   ]
  },
  {
   "cell_type": "markdown",
   "id": "df5c9467-45dd-4ba1-8ebe-29b72fc0b1f8",
   "metadata": {},
   "source": [
    "<a name='2'></a>\n",
    "## 2 - Solving System of Linear Equations using Elimination Method\n",
    "\n",
    "You can see how easy it is to use contemporary packages to solve linear equations. However, for deeper understanding of mathematical concepts, it is important to practice some solution techniques manually. Programming approach can still help here to reduce the amount of arithmetical calculations, and focus on the method itself.\n",
    "\n",
    "<a name='2.1'></a>\n",
    "### 2.1 - Elimination Method"
   ]
  },
  {
   "cell_type": "markdown",
   "id": "6cbd376e-cda3-4a2c-b484-12a76e2700ef",
   "metadata": {},
   "source": [
    "In the **elimination method** you either add or subtract the equations of the linear system to get an equation with smaller number of variables. If needed, you can also multiply whole equation by non-zero number. \n",
    "\n",
    "Take a look at the system $(1)$ again:\n",
    "\n",
    "$$\\begin{cases} \n",
    "-x_1+3x_2=7, \\\\ 3x_1+2x_2=1, \\end{cases}$$\n",
    "\n",
    "Multiply first equation by 3, add it to the second equation and exchange the second equation with the result of this addition:\n",
    "\n",
    "$$\\begin{cases} \n",
    "-x_1+3x_2=7, \\\\ 11x_2=22. \\end{cases}\\tag{2}$$\n",
    "\n",
    "You eliminated variable $x_1$ from the second equation and brough it to the form where, dividing by $11$, you can see the solution value for $x_2$: $x_2=2$. Now take $x_2=2$ in the first equation:\n",
    "\n",
    "$$\\begin{cases} \n",
    "-x_1+3 \\times 2=7, \\\\ x_2=2, \\end{cases}\\tag{3}$$\n",
    "\n",
    "And find the solution:\n",
    "\n",
    "$$\\begin{cases} \n",
    "x_1=-1, \\\\ x_2=2. \\end{cases}\\tag{4}$$\n",
    "\n",
    "Check that it's the same one that you found in the section [1.2](#1.2)."
   ]
  },
  {
   "cell_type": "markdown",
   "id": "541d606d-6c16-49c1-b981-505a25ce0a8a",
   "metadata": {},
   "source": [
    "<a name='2.2'></a>\r\n",
    "### 2.2 - Preparation for the Implementation of Elimination Method in the Code\r\n",
    "\r\n",
    "Representing the system in a matrix form as\r\n",
    "$\\begin{bmatrix}\r\n",
    "-1 & 3 & 7 \\\\\r\n",
    "3 & 2 & 1\r\n",
    "\\end{bmatrix},\r\n",
    "$\r\n",
    "you can apply the same operations to the rows of the matrix with Python code.\r\n",
    "\r\n",
    "Unify matrix $A$ and array $b$ into one matrix using `np.hstack()` function. Note that the shape of the originally defined array $b$ was $(2,)$, to stack it with the $(2, 2)$ matrix you need to use `.reshape((2, 1))` function:"
   ]
  },
  {
   "cell_type": "code",
   "execution_count": 48,
   "id": "5e38af86-57ed-4b62-a615-b208a49e5e75",
   "metadata": {},
   "outputs": [
    {
     "name": "stdout",
     "output_type": "stream",
     "text": [
      "[[-1.  3.  7.]\n",
      " [ 3.  2.  1.]]\n"
     ]
    }
   ],
   "source": [
    "A_system = np.hstack((A, b.reshape((2, 1))))\n",
    "\n",
    "print(A_system)"
   ]
  },
  {
   "cell_type": "markdown",
   "id": "c04ce657-5d13-4008-ae1a-2b4babc92a13",
   "metadata": {},
   "source": [
    "Let's review how to extract a row of a matrix, which will help later to perform required operations with the rows. Remember, that indexing of arrays in Python starts from zero, so to extract second row of a matrix, you need to use the following code:"
   ]
  },
  {
   "cell_type": "code",
   "execution_count": 49,
   "id": "05928a3c-c691-49cb-bd3f-617190dd8863",
   "metadata": {},
   "outputs": [
    {
     "name": "stdout",
     "output_type": "stream",
     "text": [
      "[3. 2. 1.]\n"
     ]
    }
   ],
   "source": [
    "print(A_system[1])\n"
   ]
  },
  {
   "cell_type": "markdown",
   "id": "29c9c7a8-f5bd-40c9-b8b1-6e1e653217dc",
   "metadata": {},
   "source": [
    "<a name='2.3'></a>\n",
    "### 2.3 - Implementation of Elimination Method\n",
    "\n",
    "Let's apply some operations to the matrix $A\\_system$ to eliminate variable . First, copy the matrix to keep the original one without any changes. Then multiply first row by 3, add it to the second row and exchange the second row with the result of this addition:"
   ]
  },
  {
   "cell_type": "code",
   "execution_count": 50,
   "id": "52f3b63a-7073-4dc4-9a25-4974ac30ef15",
   "metadata": {},
   "outputs": [
    {
     "name": "stdout",
     "output_type": "stream",
     "text": [
      "[[-1.  3.  7.]\n",
      " [ 0. 11. 22.]]\n",
      "[[-1.  3.  7.]\n",
      " [ 0.  1.  2.]]\n"
     ]
    }
   ],
   "source": [
    "# Function .copy() is used to keep the original matrix without any changes.\n",
    "A_system_res = A_system.copy()\n",
    "\n",
    "A_system_res[1] = 3 * A_system_res[0] + A_system_res[1]\n",
    "\n",
    "print(A_system_res)\n",
    "\n",
    "#Multipy second row by  1/11:\n",
    "A_system_res[1] = 1/11 * A_system_res[1]\n",
    "print(A_system_res)"
   ]
  },
  {
   "cell_type": "markdown",
   "id": "649b75c0-d06e-4539-8fbe-6c03754e15fb",
   "metadata": {},
   "source": [
    "The original matrix `A_system` was constructed stacking horizontally matrix $A$ and array $b$. You can read the last row as $0x_1+1x_2 = 2$, thus $x_2 = 2$. And the first row as $-1x_1+3x_2=7$. Substitute $x_2=2$, you will get $x_1 = -1$."
   ]
  },
  {
   "cell_type": "markdown",
   "id": "4e13ad88-025b-4bdb-bae2-6a5336a54876",
   "metadata": {},
   "source": [
    "<a name='2.4'></a>\n",
    "### 2.4 - Graphical Representation of the Solution\n",
    "\n",
    "A linear equation in two variables (here, $x_1$ and $x_2$) is represented geometrically by a line which points $(x_1, x_2)$ make up the collection of solutions of the equation. This is called the **graph of the linear equation**. In case of the system of two equations there will be two lines corresponding to each of the equations, and the solution will be the intersection point of those lines.\n",
    "\n",
    "In the following code you will define a function `plot_lines()` to plot the lines and use it later to represent the solution which you found earlier. Do not worry if the code in the following cell will not be clear - at this stage this is not important code to understand."
   ]
  },
  {
   "cell_type": "code",
   "execution_count": 53,
   "id": "497fe67e-338e-4cb7-9e69-5d3876d53308",
   "metadata": {},
   "outputs": [
    {
     "ename": "ModuleNotFoundError",
     "evalue": "No module named 'matplotlib'",
     "output_type": "error",
     "traceback": [
      "\u001b[1;31m---------------------------------------------------------------------------\u001b[0m",
      "\u001b[1;31mModuleNotFoundError\u001b[0m                       Traceback (most recent call last)",
      "Cell \u001b[1;32mIn[53], line 1\u001b[0m\n\u001b[1;32m----> 1\u001b[0m \u001b[38;5;28;01mimport\u001b[39;00m \u001b[38;5;21;01mmatplotlib\u001b[39;00m\u001b[38;5;21;01m.\u001b[39;00m\u001b[38;5;21;01mpyplot\u001b[39;00m \u001b[38;5;28;01mas\u001b[39;00m \u001b[38;5;21;01mplt\u001b[39;00m\n\u001b[0;32m      3\u001b[0m \u001b[38;5;28;01mdef\u001b[39;00m \u001b[38;5;21mplot_lines\u001b[39m(M):\n\u001b[0;32m      4\u001b[0m     x_1 \u001b[38;5;241m=\u001b[39m np\u001b[38;5;241m.\u001b[39mlinspace(\u001b[38;5;241m-\u001b[39m\u001b[38;5;241m10\u001b[39m,\u001b[38;5;241m10\u001b[39m,\u001b[38;5;241m100\u001b[39m)\n",
      "\u001b[1;31mModuleNotFoundError\u001b[0m: No module named 'matplotlib'"
     ]
    }
   ],
   "source": [
    "import matplotlib.pyplot as plt\n",
    "\n",
    "def plot_lines(M):\n",
    "    x_1 = np.linspace(-10,10,100)\n",
    "    x_2_line_1 = (M[0,2] - M[0,0] * x_1) / M[0,1]\n",
    "    x_2_line_2 = (M[1,2] - M[1,0] * x_1) / M[1,1]\n",
    "    \n",
    "    _, ax = plt.subplots(figsize=(10, 10))\n",
    "    ax.plot(x_1, x_2_line_1, '-', linewidth=2, color='#0075ff',\n",
    "        label=f'$x_2={-M[0,0]/M[0,1]:.2f}x_1 + {M[0,2]/M[0,1]:.2f}$')\n",
    "    ax.plot(x_1, x_2_line_2, '-', linewidth=2, color='#ff7300',\n",
    "        label=f'$x_2={-M[1,0]/M[1,1]:.2f}x_1 + {M[1,2]/M[1,1]:.2f}$')\n",
    "\n",
    "    A = M[:, 0:-1]\n",
    "    b = M[:, -1::].flatten()\n",
    "    d = np.linalg.det(A)\n",
    "\n",
    "    if d != 0:\n",
    "        solution = np.linalg.solve(A,b) \n",
    "        ax.plot(solution[0], solution[1], '-o', mfc='none', \n",
    "            markersize=10, markeredgecolor='#ff0000', markeredgewidth=2)\n",
    "        ax.text(solution[0]-0.25, solution[1]+0.75, f'$(${solution[0]:.0f}$,{solution[1]:.0f})$', fontsize=14)\n",
    "    ax.tick_params(axis='x', labelsize=14)\n",
    "    ax.tick_params(axis='y', labelsize=14)\n",
    "    ax.set_xticks(np.arange(-10, 10))\n",
    "    ax.set_yticks(np.arange(-10, 10))\n",
    "\n",
    "    plt.xlabel('$x_1$', size=14)\n",
    "    plt.ylabel('$x_2$', size=14)\n",
    "    plt.legend(loc='upper right', fontsize=14)\n",
    "    plt.axis([-10, 10, -10, 10])\n",
    "\n",
    "    plt.grid()\n",
    "    plt.gca().set_aspect(\"equal\")\n",
    "\n",
    "    plt.show()"
   ]
  },
  {
   "cell_type": "code",
   "execution_count": 39,
   "id": "ce1288ed-a157-4b4b-9f78-a9396c3ec494",
   "metadata": {},
   "outputs": [
    {
     "ename": "NameError",
     "evalue": "name 'plot_lines' is not defined",
     "output_type": "error",
     "traceback": [
      "\u001b[1;31m---------------------------------------------------------------------------\u001b[0m",
      "\u001b[1;31mNameError\u001b[0m                                 Traceback (most recent call last)",
      "Cell \u001b[1;32mIn[39], line 1\u001b[0m\n\u001b[1;32m----> 1\u001b[0m \u001b[43mplot_lines\u001b[49m(A_system)\n",
      "\u001b[1;31mNameError\u001b[0m: name 'plot_lines' is not defined"
     ]
    }
   ],
   "source": [
    "plot_lines(A_system)"
   ]
  },
  {
   "cell_type": "markdown",
   "id": "154f8a3b-4797-47cd-b48d-e4800942ace9",
   "metadata": {},
   "source": [
    "<a name='3'></a>\r\n",
    "## 3 - System of Linear Equations with No Solutions\r\n",
    "\r\n",
    "Given another system of linear equations:\r\n",
    "\r\n",
    "$$\\begin{cases} \r\n",
    "-x_1+3x_2=7, \\\\ 3x_1-9x_2=1, \\end{cases}\\tag{5}$$\r\n",
    "\r\n",
    "let's find the determinant of the corresponding matrix."
   ]
  },
  {
   "cell_type": "code",
   "execution_count": 42,
   "id": "2e7c3c5e-39ce-40e3-b608-b9f5105a6005",
   "metadata": {},
   "outputs": [
    {
     "name": "stdout",
     "output_type": "stream",
     "text": [
      "Determinant of matrix A_2: 0.00\n"
     ]
    }
   ],
   "source": [
    "A_2 = np.array([\n",
    "        [-1, 3],\n",
    "        [3, -9]\n",
    "    ], dtype=np.dtype(float))\n",
    "\n",
    "b_2 = np.array([7, 1], dtype=np.dtype(float))\n",
    "\n",
    "d_2 = np.linalg.det(A_2)\n",
    "\n",
    "print(f\"Determinant of matrix A_2: {d_2:.2f}\")"
   ]
  },
  {
   "cell_type": "markdown",
   "id": "b4e2c662-effc-437b-bd39-3f9265b0a73a",
   "metadata": {},
   "source": [
    "It is equal to zero, thus the system cannot have one unique solution. It will have either infinitely many solutions or none. The consistency of it will depend on the free coefficients (right side coefficients). You can run the code in the following cell to check that the `np.linalg.solve()` function will give an error due to singularity."
   ]
  },
  {
   "cell_type": "code",
   "execution_count": 41,
   "id": "d18365db-97a6-491a-a485-cd436c7791e6",
   "metadata": {},
   "outputs": [
    {
     "name": "stdout",
     "output_type": "stream",
     "text": [
      "Singular matrix\n"
     ]
    }
   ],
   "source": [
    "try:\n",
    "    x_2 = np.linalg.solve(A_2, b_2)\n",
    "except np.linalg.LinAlgError as err:\n",
    "    print(err)"
   ]
  },
  {
   "cell_type": "markdown",
   "id": "f8e52ae7-df19-499a-a3a8-f6fc67f5e74e",
   "metadata": {},
   "source": [
    "Prepare to apply the elimination method, constructing the matrix, corresponding to this linear system:"
   ]
  },
  {
   "cell_type": "code",
   "execution_count": 21,
   "id": "eb62a2e3-8fa4-4b5f-b2dc-5ceb561bd6b1",
   "metadata": {},
   "outputs": [
    {
     "name": "stdout",
     "output_type": "stream",
     "text": [
      "[[-1.  3.  7.]\n",
      " [ 3. -9.  1.]]\n"
     ]
    }
   ],
   "source": [
    "A_2_system = np.hstack((A_2, b_2.reshape((2, 1))))\n",
    "print(A_2_system)"
   ]
  },
  {
   "cell_type": "markdown",
   "id": "65c9c90b-85e4-40af-8992-7bd65cfba7d4",
   "metadata": {},
   "source": [
    "Perform elimination:"
   ]
  },
  {
   "cell_type": "code",
   "execution_count": 25,
   "id": "4e2fe492-c37c-4fb2-a132-98f69375d73b",
   "metadata": {},
   "outputs": [
    {
     "name": "stdout",
     "output_type": "stream",
     "text": [
      "[[-1.  3.  7.]\n",
      " [ 0.  0. 22.]]\n"
     ]
    }
   ],
   "source": [
    "# copy() matrix.\n",
    "A_2_system_res = A_2_system.copy()\n",
    "\n",
    "# Multiply row 0 by 3 and add it to the row 1.\n",
    "A_2_system_res[1] = 3 * A_2_system_res[0] + A_2_system_res[1]\n",
    "print(A_2_system_res)"
   ]
  },
  {
   "cell_type": "markdown",
   "id": "c6f3fbe1-b628-436b-8cd0-f167a008b1fb",
   "metadata": {},
   "source": [
    "The last row will correspond to the equation $0=22$ which has no solution. Thus the whole linear system $(5)$ has no solutions. Let's see what will be on the graph. Do you expect the corresponding two lines to intersect?"
   ]
  },
  {
   "cell_type": "code",
   "execution_count": 24,
   "id": "17c1b2fa-92e9-46ec-909a-136c5e3cac06",
   "metadata": {},
   "outputs": [
    {
     "ename": "NameError",
     "evalue": "name 'plot_lines' is not defined",
     "output_type": "error",
     "traceback": [
      "\u001b[1;31m---------------------------------------------------------------------------\u001b[0m",
      "\u001b[1;31mNameError\u001b[0m                                 Traceback (most recent call last)",
      "Cell \u001b[1;32mIn[24], line 1\u001b[0m\n\u001b[1;32m----> 1\u001b[0m \u001b[43mplot_lines\u001b[49m(A_2_system_res)\n",
      "\u001b[1;31mNameError\u001b[0m: name 'plot_lines' is not defined"
     ]
    }
   ],
   "source": [
    "plot_lines(A_2_system)"
   ]
  },
  {
   "cell_type": "markdown",
   "id": "b24f6f3e-0c13-4651-8e69-a04b1cffc078",
   "metadata": {},
   "source": [
    "<a name='4'></a>\n",
    "## 4 - System of Linear Equations with Infinite Number of Solutions\n",
    "\n",
    "Changing free coefficients of the system $(5)$ you can bring it to consistency:\n",
    "\n",
    "$$\\begin{cases} \n",
    "-x_1+3x_2=7, \\\\ 3x_1-9x_2=-21, \\end{cases}\\tag{6}$$"
   ]
  },
  {
   "cell_type": "code",
   "execution_count": 26,
   "id": "1ec4acb2-6e59-4c2a-9929-15c539bdede0",
   "metadata": {},
   "outputs": [],
   "source": [
    "b_3 = np.array([7, -21], dtype=np.dtype(float))"
   ]
  },
  {
   "cell_type": "markdown",
   "id": "e06cb4e8-22ee-468c-b306-fb57022de2dc",
   "metadata": {},
   "source": [
    "Prepare the new matrix, corresponding to the system $(6)$:"
   ]
  },
  {
   "cell_type": "code",
   "execution_count": 27,
   "id": "2c00d5f7-22b8-43f8-bb7b-531ff5a6ead1",
   "metadata": {},
   "outputs": [
    {
     "name": "stdout",
     "output_type": "stream",
     "text": [
      "[[ -1.   3.   7.]\n",
      " [  3.  -9. -21.]]\n"
     ]
    }
   ],
   "source": [
    "A_3_system = np.hstack((A_2, b_3.reshape((2, 1))))\n",
    "print(A_3_system)"
   ]
  },
  {
   "cell_type": "markdown",
   "id": "a8f27c4c-dccf-4d0a-9fd9-a7c35df7a92b",
   "metadata": {},
   "source": [
    "Perform elimination using elementary operations:"
   ]
  },
  {
   "cell_type": "code",
   "execution_count": 28,
   "id": "b6acc7b1-5b39-4a74-944a-c2073cb67cb0",
   "metadata": {},
   "outputs": [
    {
     "name": "stdout",
     "output_type": "stream",
     "text": [
      "[[-1.  3.  7.]\n",
      " [ 0.  0.  0.]]\n"
     ]
    }
   ],
   "source": [
    "# copy() matrix.\n",
    "A_3_system_res = A_3_system.copy()\n",
    "\n",
    "# Multiply row 0 by 3 and add it to the row 1.\n",
    "A_3_system_res[1] = 3 * A_3_system_res[0] + A_3_system_res[1]\n",
    "print(A_3_system_res)"
   ]
  },
  {
   "cell_type": "markdown",
   "id": "1595116d-562e-4249-b1f5-fc1632a43cd4",
   "metadata": {},
   "source": [
    "Thus from the corresponding linear system\n",
    "\n",
    "$$\\begin{cases} \n",
    "-x_1+3x_2=7, \\\\ 0=0, \\end{cases}\\tag{7}$$\n",
    "\n",
    "the solutions of the linear system $(6)$ are:\n",
    "\n",
    "$$x_1=3x_2-7, \\tag{8}$$\n",
    "\n",
    "where $x_2$ is any real number.\n",
    "\n",
    "If you plot the equations of the system, how many lines do you expect to see in the graph now? Check it, using the code below:"
   ]
  },
  {
   "cell_type": "code",
   "execution_count": 29,
   "id": "1c9eb204-0d9b-4b88-9481-d8a8eaf10852",
   "metadata": {},
   "outputs": [
    {
     "ename": "NameError",
     "evalue": "name 'plot_lines' is not defined",
     "output_type": "error",
     "traceback": [
      "\u001b[1;31m---------------------------------------------------------------------------\u001b[0m",
      "\u001b[1;31mNameError\u001b[0m                                 Traceback (most recent call last)",
      "Cell \u001b[1;32mIn[29], line 1\u001b[0m\n\u001b[1;32m----> 1\u001b[0m \u001b[43mplot_lines\u001b[49m(A_3_system)\n",
      "\u001b[1;31mNameError\u001b[0m: name 'plot_lines' is not defined"
     ]
    }
   ],
   "source": [
    "plot_lines(A_3_system)"
   ]
  },
  {
   "cell_type": "code",
   "execution_count": null,
   "id": "be03474a-a3af-47d1-9ae9-d94f33227849",
   "metadata": {},
   "outputs": [],
   "source": []
  }
 ],
 "metadata": {
  "kernelspec": {
   "display_name": "Python 3 (ipykernel)",
   "language": "python",
   "name": "python3"
  },
  "language_info": {
   "codemirror_mode": {
    "name": "ipython",
    "version": 3
   },
   "file_extension": ".py",
   "mimetype": "text/x-python",
   "name": "python",
   "nbconvert_exporter": "python",
   "pygments_lexer": "ipython3",
   "version": "3.10.6"
  }
 },
 "nbformat": 4,
 "nbformat_minor": 5
}
